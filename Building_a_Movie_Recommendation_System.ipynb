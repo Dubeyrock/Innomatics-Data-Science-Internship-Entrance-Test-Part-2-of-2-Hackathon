{
  "cells": [
    {
      "cell_type": "markdown",
      "metadata": {
        "id": "vO4mnJ0lgkXg"
      },
      "source": [
        "1. Understanding the Dataset\n",
        "First, let's look at what each file contains:\n",
        "\n",
        "links.csv: Likely contains mappings between movie IDs in the dataset and external movie databases (e.g., IMDb or TMDb IDs).\n",
        "\n",
        "movies.csv: Contains movie details like movie ID, title, and genres.\n",
        "\n",
        "ratings.csv: Contains user ratings for movies, including user IDs, movie IDs, ratings, and timestamps.\n",
        "\n",
        "tags.csv: Contains user-generated tags for movies, including user IDs, movie IDs, tags, and timestamps."
      ]
    },
    {
      "cell_type": "markdown",
      "metadata": {
        "id": "DdQPuN-RgqRe"
      },
      "source": [
        "Loading the Data"
      ]
    },
    {
      "cell_type": "code",
      "execution_count": 1,
      "metadata": {
        "colab": {
          "base_uri": "https://localhost:8080/"
        },
        "id": "XEMXYesBecBc",
        "outputId": "ebab4246-7448-4354-e3ae-219780047cb7"
      },
      "outputs": [
        {
          "output_type": "stream",
          "name": "stdout",
          "text": [
            "Drive already mounted at /content/drive/; to attempt to forcibly remount, call drive.mount(\"/content/drive/\", force_remount=True).\n"
          ]
        }
      ],
      "source": [
        "import zipfile\n",
        "from google.colab import drive\n",
        "\n",
        "drive.mount('/content/drive/')"
      ]
    },
    {
      "cell_type": "code",
      "execution_count": 2,
      "metadata": {
        "id": "YBV_yICVe6nD"
      },
      "outputs": [],
      "source": [
        "zip_ref = zipfile.ZipFile(\"/content/drive/MyDrive/movie_data.zip\", 'r')\n",
        "zip_ref.extractall(\"/content\")\n",
        "zip_ref.close()"
      ]
    },
    {
      "cell_type": "code",
      "execution_count": 3,
      "metadata": {
        "id": "-6cc14qofzxV"
      },
      "outputs": [],
      "source": [
        "import pandas as pd\n",
        "\n",
        "# Load the datasets\n",
        "links = pd.read_csv('links.csv')\n",
        "movies = pd.read_csv('movies.csv')\n",
        "ratings = pd.read_csv('ratings.csv')\n",
        "tags = pd.read_csv('tags.csv')\n"
      ]
    },
    {
      "cell_type": "code",
      "execution_count": 4,
      "metadata": {
        "colab": {
          "base_uri": "https://localhost:8080/"
        },
        "id": "2pXqZsEuhzFQ",
        "outputId": "32f99aa8-ea06-45e0-9a3d-405068dadd60"
      },
      "outputs": [
        {
          "output_type": "stream",
          "name": "stdout",
          "text": [
            "(9742, 3)\n"
          ]
        }
      ],
      "source": [
        "movies = pd.read_csv('movies.csv')\n",
        "print(movies.shape)\n",
        "\n"
      ]
    },
    {
      "cell_type": "code",
      "execution_count": 5,
      "metadata": {
        "colab": {
          "base_uri": "https://localhost:8080/"
        },
        "id": "vK7Qvvx-h-AV",
        "outputId": "d62ba0d1-ecc2-4e9f-af89-0d858d114ab6"
      },
      "outputs": [
        {
          "output_type": "stream",
          "name": "stdout",
          "text": [
            "(100836, 4)\n"
          ]
        }
      ],
      "source": [
        "ratings = pd.read_csv('ratings.csv')\n",
        "print(ratings.shape)"
      ]
    },
    {
      "cell_type": "code",
      "execution_count": 6,
      "metadata": {
        "colab": {
          "base_uri": "https://localhost:8080/"
        },
        "id": "l_poHYJ9iDjE",
        "outputId": "ef54c625-4588-4d86-de6e-4297e21b6ecc"
      },
      "outputs": [
        {
          "output_type": "stream",
          "name": "stdout",
          "text": [
            "610\n"
          ]
        }
      ],
      "source": [
        "unique_user_ids = ratings['userId'].nunique()\n",
        "print(unique_user_ids)\n"
      ]
    },
    {
      "cell_type": "code",
      "execution_count": 7,
      "metadata": {
        "colab": {
          "base_uri": "https://localhost:8080/"
        },
        "id": "fLzxnnt2iKYL",
        "outputId": "66b994c7-d1d4-41a8-a89a-7a49a1259909"
      },
      "outputs": [
        {
          "output_type": "stream",
          "name": "stdout",
          "text": [
            "Forrest Gump (1994)\n"
          ]
        }
      ],
      "source": [
        "movie_ratings_count = ratings.groupby('movieId').size()\n",
        "most_rated_movie_id = movie_ratings_count.idxmax()\n",
        "most_rated_movie = movies[movies['movieId'] == most_rated_movie_id]['title'].values[0]\n",
        "print(most_rated_movie)\n"
      ]
    },
    {
      "cell_type": "code",
      "execution_count": 8,
      "metadata": {
        "colab": {
          "base_uri": "https://localhost:8080/"
        },
        "id": "UWd8Rs7ZiQs-",
        "outputId": "262c2c69-7163-4259-a722-755835d69c45"
      },
      "outputs": [
        {
          "output_type": "stream",
          "name": "stdout",
          "text": [
            "['martial arts' 'sci-fi' 'alternate universe' 'philosophy'\n",
            " 'post apocalyptic']\n"
          ]
        }
      ],
      "source": [
        "matrix_movie_id = movies[movies['title'] == 'Matrix, The (1999)']['movieId'].values[0]\n",
        "matrix_tags = tags[tags['movieId'] == matrix_movie_id]['tag'].unique()\n",
        "print(matrix_tags)\n"
      ]
    },
    {
      "cell_type": "code",
      "execution_count": 9,
      "metadata": {
        "colab": {
          "base_uri": "https://localhost:8080/"
        },
        "id": "SpZQZYaxihWt",
        "outputId": "b1db63fd-5cb2-4f3c-e31e-1b11038ee48b"
      },
      "outputs": [
        {
          "output_type": "stream",
          "name": "stdout",
          "text": [
            "3.970982142857143\n"
          ]
        }
      ],
      "source": [
        "terminator_movie_id = movies[movies['title'] == 'Terminator 2: Judgment Day (1991)']['movieId'].values[0]\n",
        "average_rating = ratings[ratings['movieId'] == terminator_movie_id]['rating'].mean()\n",
        "print(average_rating)\n"
      ]
    },
    {
      "cell_type": "code",
      "execution_count": 10,
      "metadata": {
        "colab": {
          "base_uri": "https://localhost:8080/",
          "height": 472
        },
        "id": "zN7gjtl6ipy-",
        "outputId": "a31426c1-14a0-4c67-e3c0-763e4475d7cc"
      },
      "outputs": [
        {
          "output_type": "display_data",
          "data": {
            "text/plain": [
              "<Figure size 640x480 with 1 Axes>"
            ],
            "image/png": "[encoded data removed]"
          },
          "metadata": {}
        }
      ],
      "source": [
        "fight_club_movie_id = movies[movies['title'] == 'Fight Club (1999)']['movieId'].values[0]\n",
        "ratings_fight_club = ratings[ratings['movieId'] == fight_club_movie_id]['rating']\n",
        "\n",
        "import seaborn as sns\n",
        "import matplotlib.pyplot as plt\n",
        "\n",
        "sns.histplot(ratings_fight_club, kde=True)\n",
        "plt.title('Distribution of Ratings for Fight Club (1999)')\n",
        "plt.show()\n"
      ]
    },
    {
      "cell_type": "code",
      "execution_count": 11,
      "metadata": {
        "colab": {
          "base_uri": "https://localhost:8080/"
        },
        "id": "rb401l6IjQwP",
        "outputId": "15bd52b0-578a-4f00-ba15-5f86489776ae"
      },
      "outputs": [
        {
          "output_type": "stream",
          "name": "stdout",
          "text": [
            "Shawshank Redemption, The (1994)\n"
          ]
        }
      ],
      "source": [
        "# Step 1: Group by movieId and calculate average rating\n",
        "movie_avg_ratings = ratings.groupby('movieId')['rating'].mean()\n",
        "\n",
        "# Step 2: Join with movies data\n",
        "movies_with_avg_ratings = movies.merge(movie_avg_ratings, on='movieId')\n",
        "\n",
        "# Step 3: Filter movies with more than 50 ratings\n",
        "ratings_count = ratings.groupby('movieId').size()\n",
        "popular_movies = movies_with_avg_ratings[movies_with_avg_ratings['movieId'].isin(ratings_count[ratings_count > 50].index)]\n",
        "\n",
        "# Find the movie with the highest average rating\n",
        "most_popular_movie_id = popular_movies.loc[popular_movies['rating'].idxmax()]['movieId']\n",
        "most_popular_movie = popular_movies[popular_movies['movieId'] == most_popular_movie_id]['title'].values[0]\n",
        "print(most_popular_movie)\n"
      ]
    },
    {
      "cell_type": "code",
      "execution_count": 12,
      "metadata": {
        "colab": {
          "base_uri": "https://localhost:8080/"
        },
        "id": "9LXD1WjIjW1y",
        "outputId": "cd099920-657d-47e6-9dcc-567c9698f0de"
      },
      "outputs": [
        {
          "output_type": "stream",
          "name": "stdout",
          "text": [
            "                                 title\n",
            "257                Pulp Fiction (1994)\n",
            "277   Shawshank Redemption, The (1994)\n",
            "314                Forrest Gump (1994)\n",
            "510   Silence of the Lambs, The (1991)\n",
            "1939                Matrix, The (1999)\n"
          ]
        }
      ],
      "source": [
        "# Find top 5 movies based on number of ratings\n",
        "top_rated_movies = ratings_count[ratings_count > 50].nlargest(5).index\n",
        "top_rated_movies_df = movies[movies['movieId'].isin(top_rated_movies)]\n",
        "print(top_rated_movies_df[['title']])\n"
      ]
    },
    {
      "cell_type": "code",
      "execution_count": 13,
      "metadata": {
        "colab": {
          "base_uri": "https://localhost:8080/"
        },
        "id": "67HYaMv5kck2",
        "outputId": "5221fedb-0a48-4bb6-a3a5-1e7b3c9ec590"
      },
      "outputs": [
        {
          "output_type": "stream",
          "name": "stdout",
          "text": [
            "movieId\n",
            "2571    278\n",
            "260     251\n",
            "480     238\n",
            "dtype: int64\n",
            "224     Star Wars: Episode IV - A New Hope (1977)\n",
            "418                          Jurassic Park (1993)\n",
            "1939                           Matrix, The (1999)\n",
            "Name: title, dtype: object\n"
          ]
        }
      ],
      "source": [
        "# Check the Sci-Fi movies and their ratings count\n",
        "sci_fi_movies = movies[movies['genres'].str.contains('Sci-Fi')]\n",
        "sci_fi_movie_ids = sci_fi_movies['movieId'].values\n",
        "sci_fi_movie_ratings_count = ratings[ratings['movieId'].isin(sci_fi_movie_ids)].groupby('movieId').size()\n",
        "\n",
        "# Find the top 3 Sci-Fi movies based on number of ratings\n",
        "top_sci_fi_movies = sci_fi_movie_ratings_count.nlargest(3)\n",
        "print(top_sci_fi_movies)\n",
        "\n",
        "# Get the titles of the top 3 Sci-Fi movies\n",
        "top_sci_fi_movie_titles = movies[movies['movieId'].isin(top_sci_fi_movies.index)]['title']\n",
        "print(top_sci_fi_movie_titles)\n"
      ]
    },
    {
      "cell_type": "code",
      "execution_count": 14,
      "metadata": {
        "colab": {
          "base_uri": "https://localhost:8080/"
        },
        "id": "pEnmf0ldkevv",
        "outputId": "f31566ed-897e-49e8-aa3e-9df7cea5ab33"
      },
      "outputs": [
        {
          "output_type": "stream",
          "name": "stdout",
          "text": [
            "Matrix, The (1999)\n"
          ]
        }
      ],
      "source": [
        "# Find the third most popular Sci-Fi movie based on user ratings\n",
        "if len(top_sci_fi_movie_titles) >= 3:\n",
        "    third_most_popular_sci_fi = top_sci_fi_movie_titles.iloc[2]\n",
        "    print(third_most_popular_sci_fi)\n"
      ]
    },
    {
      "cell_type": "code",
      "execution_count": 15,
      "metadata": {
        "colab": {
          "base_uri": "https://localhost:8080/"
        },
        "id": "7U8X_JQmkDhn",
        "outputId": "4287bb22-0899-4266-ede8-ea3a4aac82d7"
      },
      "outputs": [
        {
          "output_type": "stream",
          "name": "stdout",
          "text": [
            "Matrix, The (1999)\n"
          ]
        }
      ],
      "source": [
        "# Filter Sci-Fi movies\n",
        "sci_fi_movies = movies[movies['genres'].str.contains('Sci-Fi')]\n",
        "\n",
        "# Get the movieIds\n",
        "sci_fi_movie_ids = sci_fi_movies['movieId'].values\n",
        "\n",
        "# Count ratings for Sci-Fi movies\n",
        "sci_fi_movie_ratings_count = ratings[ratings['movieId'].isin(sci_fi_movie_ids)].groupby('movieId').size()\n",
        "\n",
        "# Find the third most popular Sci-Fi movie\n",
        "top_sci_fi_movies = sci_fi_movie_ratings_count.nlargest(3).index\n",
        "third_most_popular_sci_fi = movies[movies['movieId'].isin(top_sci_fi_movies)].iloc[2]['title']\n",
        "print(third_most_popular_sci_fi)\n"
      ]
    },
    {
      "cell_type": "code",
      "execution_count": 17,
      "metadata": {
        "colab": {
          "base_uri": "https://localhost:8080/"
        },
        "id": "ZqTQEqqcf7wH",
        "outputId": "85cb0fa9-5db6-409b-ea75-b4c2a2076734"
      },
      "outputs": [
        {
          "output_type": "stream",
          "name": "stdout",
          "text": [
            "Links Data:\n",
            "   movieId  imdbId   tmdbId\n",
            "0        1  114709    862.0\n",
            "1        2  113497   8844.0\n",
            "2        3  113228  15602.0\n",
            "3        4  114885  31357.0\n",
            "4        5  113041  11862.0\n",
            "\n",
            "Movies Data:\n",
            "   movieId                               title  \\\n",
            "0        1                    Toy Story (1995)   \n",
            "1        2                      Jumanji (1995)   \n",
            "2        3             Grumpier Old Men (1995)   \n",
            "3        4            Waiting to Exhale (1995)   \n",
            "4        5  Father of the Bride Part II (1995)   \n",
            "\n",
            "                                        genres  \n",
            "0  Adventure|Animation|Children|Comedy|Fantasy  \n",
            "1                   Adventure|Children|Fantasy  \n",
            "2                               Comedy|Romance  \n",
            "3                         Comedy|Drama|Romance  \n",
            "4                                       Comedy  \n",
            "\n",
            "Ratings Data:\n",
            "   userId  movieId  rating  timestamp\n",
            "0       1        1     4.0  964982703\n",
            "1       1        3     4.0  964981247\n",
            "2       1        6     4.0  964982224\n",
            "3       1       47     5.0  964983815\n",
            "4       1       50     5.0  964982931\n",
            "\n",
            "Tags Data:\n",
            "   userId  movieId              tag   timestamp\n",
            "0       2    60756            funny  1445714994\n",
            "1       2    60756  Highly quotable  1445714996\n",
            "2       2    60756     will ferrell  1445714992\n",
            "3       2    89774     Boxing story  1445715207\n",
            "4       2    89774              MMA  1445715200\n"
          ]
        }
      ],
      "source": [
        "print(\"Links Data:\")\n",
        "print(links.head())\n",
        "\n",
        "print(\"\\nMovies Data:\")\n",
        "print(movies.head())\n",
        "\n",
        "print(\"\\nRatings Data:\")\n",
        "print(ratings.head())\n",
        "\n",
        "print(\"\\nTags Data:\")\n",
        "print(tags.head())\n"
      ]
    },
    {
      "cell_type": "markdown",
      "metadata": {
        "id": "BlDJNgRRg8Pn"
      },
      "source": [
        "Dataset Information"
      ]
    },
    {
      "cell_type": "code",
      "execution_count": 18,
      "metadata": {
        "colab": {
          "base_uri": "https://localhost:8080/"
        },
        "id": "3HFoH2cMg9Mm",
        "outputId": "8c7cfcc5-eb62-46c2-a47a-2a2563052c8b"
      },
      "outputs": [
        {
          "output_type": "stream",
          "name": "stdout",
          "text": [
            "Links Data Info:\n",
            "<class 'pandas.core.frame.DataFrame'>\n",
            "RangeIndex: 9742 entries, 0 to 9741\n",
            "Data columns (total 3 columns):\n",
            " #   Column   Non-Null Count  Dtype  \n",
            "---  ------   --------------  -----  \n",
            " 0   movieId  9742 non-null   int64  \n",
            " 1   imdbId   9742 non-null   int64  \n",
            " 2   tmdbId   9734 non-null   float64\n",
            "dtypes: float64(1), int64(2)\n",
            "memory usage: 228.5 KB\n",
            "None\n",
            "\n",
            "Movies Data Info:\n",
            "<class 'pandas.core.frame.DataFrame'>\n",
            "RangeIndex: 9742 entries, 0 to 9741\n",
            "Data columns (total 3 columns):\n",
            " #   Column   Non-Null Count  Dtype \n",
            "---  ------   --------------  ----- \n",
            " 0   movieId  9742 non-null   int64 \n",
            " 1   title    9742 non-null   object\n",
            " 2   genres   9742 non-null   object\n",
            "dtypes: int64(1), object(2)\n",
            "memory usage: 228.5+ KB\n",
            "None\n",
            "\n",
            "Ratings Data Info:\n",
            "<class 'pandas.core.frame.DataFrame'>\n",
            "RangeIndex: 100836 entries, 0 to 100835\n",
            "Data columns (total 4 columns):\n",
            " #   Column     Non-Null Count   Dtype  \n",
            "---  ------     --------------   -----  \n",
            " 0   userId     100836 non-null  int64  \n",
            " 1   movieId    100836 non-null  int64  \n",
            " 2   rating     100836 non-null  float64\n",
            " 3   timestamp  100836 non-null  int64  \n",
            "dtypes: float64(1), int64(3)\n",
            "memory usage: 3.1 MB\n",
            "None\n",
            "\n",
            "Tags Data Info:\n",
            "<class 'pandas.core.frame.DataFrame'>\n",
            "RangeIndex: 3683 entries, 0 to 3682\n",
            "Data columns (total 4 columns):\n",
            " #   Column     Non-Null Count  Dtype \n",
            "---  ------     --------------  ----- \n",
            " 0   userId     3683 non-null   int64 \n",
            " 1   movieId    3683 non-null   int64 \n",
            " 2   tag        3683 non-null   object\n",
            " 3   timestamp  3683 non-null   int64 \n",
            "dtypes: int64(3), object(1)\n",
            "memory usage: 115.2+ KB\n",
            "None\n"
          ]
        }
      ],
      "source": [
        "print(\"Links Data Info:\")\n",
        "print(links.info())\n",
        "\n",
        "print(\"\\nMovies Data Info:\")\n",
        "print(movies.info())\n",
        "\n",
        "print(\"\\nRatings Data Info:\")\n",
        "print(ratings.info())\n",
        "\n",
        "print(\"\\nTags Data Info:\")\n",
        "print(tags.info())\n"
      ]
    },
    {
      "cell_type": "markdown",
      "metadata": {
        "id": "1gRPAVbVhEtV"
      },
      "source": [
        "Check for Missing Values"
      ]
    },
    {
      "cell_type": "code",
      "execution_count": 19,
      "metadata": {
        "colab": {
          "base_uri": "https://localhost:8080/"
        },
        "id": "Z77HAQjhhFk2",
        "outputId": "a711870e-031c-4307-a303-f1ce1582e707"
      },
      "outputs": [
        {
          "output_type": "stream",
          "name": "stdout",
          "text": [
            "Links Data Missing Values:\n",
            "movieId    0\n",
            "imdbId     0\n",
            "tmdbId     8\n",
            "dtype: int64\n",
            "\n",
            "Movies Data Missing Values:\n",
            "movieId    0\n",
            "title      0\n",
            "genres     0\n",
            "dtype: int64\n",
            "\n",
            "Ratings Data Missing Values:\n",
            "userId       0\n",
            "movieId      0\n",
            "rating       0\n",
            "timestamp    0\n",
            "dtype: int64\n",
            "\n",
            "Tags Data Missing Values:\n",
            "userId       0\n",
            "movieId      0\n",
            "tag          0\n",
            "timestamp    0\n",
            "dtype: int64\n"
          ]
        }
      ],
      "source": [
        "print(\"Links Data Missing Values:\")\n",
        "print(links.isnull().sum())\n",
        "\n",
        "print(\"\\nMovies Data Missing Values:\")\n",
        "print(movies.isnull().sum())\n",
        "\n",
        "print(\"\\nRatings Data Missing Values:\")\n",
        "print(ratings.isnull().sum())\n",
        "\n",
        "print(\"\\nTags Data Missing Values:\")\n",
        "print(tags.isnull().sum())\n"
      ]
    },
    {
      "cell_type": "markdown",
      "metadata": {
        "id": "oo_cn2N1hL0M"
      },
      "source": [
        "Summary Statistics"
      ]
    },
    {
      "cell_type": "code",
      "execution_count": 20,
      "metadata": {
        "colab": {
          "base_uri": "https://localhost:8080/"
        },
        "id": "S53pWeGMhMiU",
        "outputId": "5f164884-7de8-48d7-ab83-6c7484829860"
      },
      "outputs": [
        {
          "output_type": "stream",
          "name": "stdout",
          "text": [
            "Ratings Data Statistics:\n",
            "              userId        movieId         rating     timestamp\n",
            "count  100836.000000  100836.000000  100836.000000  1.008360e+05\n",
            "mean      326.127564   19435.295718       3.501557  1.205946e+09\n",
            "std       182.618491   35530.987199       1.042529  2.162610e+08\n",
            "min         1.000000       1.000000       0.500000  8.281246e+08\n",
            "25%       177.000000    1199.000000       3.000000  1.019124e+09\n",
            "50%       325.000000    2991.000000       3.500000  1.186087e+09\n",
            "75%       477.000000    8122.000000       4.000000  1.435994e+09\n",
            "max       610.000000  193609.000000       5.000000  1.537799e+09\n",
            "\n",
            "Tags Data Statistics:\n",
            "            userId        movieId     timestamp\n",
            "count  3683.000000    3683.000000  3.683000e+03\n",
            "mean    431.149335   27252.013576  1.320032e+09\n",
            "std     158.472553   43490.558803  1.721025e+08\n",
            "min       2.000000       1.000000  1.137179e+09\n",
            "25%     424.000000    1262.500000  1.137521e+09\n",
            "50%     474.000000    4454.000000  1.269833e+09\n",
            "75%     477.000000   39263.000000  1.498457e+09\n",
            "max     610.000000  193565.000000  1.537099e+09\n"
          ]
        }
      ],
      "source": [
        "import pandas as pd\n",
        "\n",
        "# Load the datasets\n",
        "ratings = pd.read_csv('ratings.csv')\n",
        "tags = pd.read_csv('tags.csv')\n",
        "\n",
        "# Display summary statistics for the ratings data\n",
        "print(\"Ratings Data Statistics:\")\n",
        "print(ratings.describe())\n",
        "\n",
        "# Display summary statistics for the tags data\n",
        "print(\"\\nTags Data Statistics:\")\n",
        "print(tags.describe())\n"
      ]
    },
    {
      "cell_type": "code",
      "source": [
        "import pandas as pd\n",
        "\n",
        "# Load the datasets\n",
        "movies = pd.read_csv('movies.csv')  # Movie information with movieId, title, genres\n",
        "ratings = pd.read_csv('ratings.csv')  # IMDb ratings with movieId, rating\n",
        "\n",
        "# Merge datasets on movieId\n",
        "merged_data = pd.merge(movies, ratings, on='movieId')\n",
        "\n",
        "# Find the movie with the highest IMDb rating\n",
        "highest_rated_movie = merged_data.loc[merged_data['rating'].idxmax()]\n",
        "highest_rated_movieId = highest_rated_movie['movieId']\n",
        "\n",
        "# Filter Sci-Fi movies\n",
        "sci_fi_movies = merged_data[merged_data['genres'].str.contains('Sci-Fi')]\n",
        "\n",
        "# Find the Sci-Fi movie with the highest IMDb rating\n",
        "highest_rated_sci_fi_movie = sci_fi_movies.loc[sci_fi_movies['rating'].idxmax()]\n",
        "highest_rated_sci_fi_movieId = highest_rated_sci_fi_movie['movieId']\n",
        "\n",
        "print(f\"MovieId with the highest IMDb rating: {highest_rated_movieId}\")\n",
        "print(f\"MovieId of the 'Sci-Fi' movie with the highest IMDb rating: {highest_rated_sci_fi_movieId}\")\n"
      ],
      "metadata": {
        "colab": {
          "base_uri": "https://localhost:8080/"
        },
        "id": "kL58uluAD05e",
        "outputId": "9b28679a-a54f-4c3a-83b5-b53ff23c6db0"
      },
      "execution_count": 21,
      "outputs": [
        {
          "output_type": "stream",
          "name": "stdout",
          "text": [
            "MovieId with the highest IMDb rating: 1\n",
            "MovieId of the 'Sci-Fi' movie with the highest IMDb rating: 24\n"
          ]
        }
      ]
    }
  ],
  "metadata": {
    "colab": {
      "provenance": []
    },
    "kernelspec": {
      "display_name": "Python 3",
      "name": "python3"
    },
    "language_info": {
      "name": "python"
    }
  },
  "nbformat": 4,
  "nbformat_minor": 0
}